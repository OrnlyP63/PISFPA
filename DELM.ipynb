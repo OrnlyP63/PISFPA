{
 "cells": [
  {
   "cell_type": "code",
   "execution_count": 1,
   "id": "06ec6632-f52d-4e52-a84d-3a38dba2b12e",
   "metadata": {},
   "outputs": [],
   "source": [
    "import numpy as np\n",
    "from tensorflow import keras\n",
    "import matplotlib.pyplot as plt\n",
    "import time\n",
    "from functools import reduce"
   ]
  },
  {
   "cell_type": "code",
   "execution_count": 2,
   "id": "72e1e5c6-484b-4027-b96c-afaf4d32b5dd",
   "metadata": {},
   "outputs": [],
   "source": [
    "from PISFA import PISFPA"
   ]
  },
  {
   "cell_type": "code",
   "execution_count": 3,
   "id": "f6c8dbcf-666c-4732-8b44-94320d48d03e",
   "metadata": {},
   "outputs": [],
   "source": [
    "#Error\n",
    "def _mean_squared_error(y, pred):\n",
    "    return 0.5 * np.mean((y - pred) ** 2)\n",
    "\n",
    "def _mean_abs_error(y, pred):\n",
    "    return np.mean(np.abs(y, pred))\n",
    "\n",
    "#activate function\n",
    "def _sigmoid(x):\n",
    "    return 1. / (1. + np.exp(-x))\n",
    "\n",
    "def _fourier(x):\n",
    "    return np.sin(x)\n",
    "\n",
    "def _identity(x):\n",
    "    return x\n",
    "\n",
    "def _hardlimit(x):\n",
    "    return (x >= 0).astype(int)\n",
    "\n",
    "#Get function\n",
    "def getActivation(name):\n",
    "    return {\n",
    "        'sigmoid': _sigmoid,\n",
    "        'fourier': _fourier,\n",
    "        'hardlimit': _hardlimit,\n",
    "    }[name]\n",
    "\n",
    "def getLoss(name):\n",
    "    return {\n",
    "        'mse': _mean_squared_error,\n",
    "        'mae': _mean_abs_error\n",
    "    }[name]\n",
    "\n",
    "#T function\n",
    "def T(x,L1,L2,cn):\n",
    "    r = x - np.dot(L1,x) + L2\n",
    "    s = np.abs(r)-cn\n",
    "    s = np.maximum(s,0,s)\n",
    "    return s*np.sign(r)\n",
    "\n",
    "def thetan(x0,x1,n):\n",
    "    if (x0==x1).all():\n",
    "        return 0\n",
    "    else:\n",
    "        return 1/(2**n*np.linalg.norm(x1-x0,'fro'))"
   ]
  },
  {
   "cell_type": "code",
   "execution_count": 4,
   "id": "fc4ba007-5d01-4da5-af63-e473f47bb445",
   "metadata": {},
   "outputs": [],
   "source": [
    "def fit(H, Y, itrs, lam, display_time=False):\n",
    "    #H = self._activation(X.dot(self._w) + self._bias)\n",
    "\n",
    "    if display_time:\n",
    "        start = time.time()\n",
    "\n",
    "    L = 1. / np.max(np.linalg.eigvals(np.dot(H.T, H))).real\n",
    "    m = H.shape[1]\n",
    "    n = Y.shape[1]\n",
    "    x0 = np.zeros((m,n))\n",
    "    x1 = np.zeros((m,n))\n",
    "    L1 = 2*L*np.dot(H.T, H)\n",
    "    L2 = 2*L*np.dot(H.T, Y)\n",
    "\n",
    "    for i in range(1,itrs+1):\n",
    "        cn = ((2e-6*i)/(2*i+1))*lam*L\n",
    "        beta = 0.9*i/(i+1)\n",
    "        alpha = 0.9*i/(i+1)\n",
    "\n",
    "        y = x1 + thetan(x0,x1,i)*(x1-x0)\n",
    "        z = (1-beta)*x1 + beta*T(x1,L1,L2,cn)\n",
    "\n",
    "        Ty = T(y,L1,L2,cn)\n",
    "        Tz = T(z,L1,L2,cn)\n",
    "        x = (1-alpha)*Ty + alpha*Tz\n",
    "\n",
    "        x0, x1 = x1, x\n",
    "\n",
    "    if display_time:\n",
    "        stop = time.time()\n",
    "        print(f'Train time: {stop-start}')\n",
    "\n",
    "    return x"
   ]
  },
  {
   "cell_type": "code",
   "execution_count": 5,
   "id": "91002590-220e-4bc6-8397-f7e98468f019",
   "metadata": {},
   "outputs": [],
   "source": [
    "class ELM_AE:\n",
    "    def __init__(self, n_hidden, X, activation='sigmoid',loss='mse', beta_init=None, w_init=None, bias_init=None ):\n",
    "        self.X = X\n",
    "\n",
    "        self._num_input_nodes = X.shape[1]\n",
    "        self._num_output_units = X.shape[1]\n",
    "        self._num_hidden_units = n_hidden\n",
    "        \n",
    "        self._activation = getActivation(activation)\n",
    "        self._loss = getLoss(loss)\n",
    "        \n",
    "        #weight_out\n",
    "        if isinstance(beta_init, np.ndarray):\n",
    "            self._beta = beta_init\n",
    "        else:\n",
    "            self._beta = np.random.uniform(-1., 1., (self._num_hidden_units, self._num_output_units))\n",
    "\n",
    "        #weight_in\n",
    "        if isinstance(w_init, np.ndarray):\n",
    "            self._w = w_init\n",
    "        else:\n",
    "            self._w = np.random.uniform(-1., 1., (self._num_input_nodes, self._num_hidden_units))\n",
    "\n",
    "        #bias\n",
    "        if isinstance(bias_init, np.ndarray):\n",
    "            self._bias = bias_init\n",
    "        else:\n",
    "            self._bias = np.random.uniform(-1., 1., size=(self._num_hidden_units,))\n",
    "             \n",
    "        \n",
    "    def fit(self, itrs, lam, display_time=False):\n",
    "        H = self._activation(np.dot(self.X, self._w) + self._bias)\n",
    "\n",
    "        if display_time:\n",
    "            start = time.time()\n",
    "\n",
    "        L = 1. / np.max(np.linalg.eigvals(np.dot(H.T, H))).real\n",
    "        m = H.shape[1]\n",
    "        n = self._num_output_units\n",
    "        x0 = np.zeros((m,n))\n",
    "        x1 = np.zeros((m,n))\n",
    "        L1 = 2*L*np.dot(H.T, H)\n",
    "        L2 = 2*L*np.dot(H.T, self.X)\n",
    "\n",
    "        for i in range(1,itrs+1):\n",
    "            cn = ((2e-6*i)/(2*i+1))*lam*L\n",
    "            beta = 0.9*i/(i+1)\n",
    "            alpha = 0.9*i/(i+1)\n",
    "\n",
    "            y = x1 + thetan(x0,x1,i)*(x1-x0)\n",
    "            z = (1-beta)*x1 + beta*T(x1,L1,L2,cn)\n",
    "\n",
    "            Ty = T(y,L1,L2,cn)\n",
    "            Tz = T(z,L1,L2,cn)\n",
    "            x = (1-alpha)*Ty + alpha*Tz\n",
    "\n",
    "            x0, x1 = x1, x\n",
    "\n",
    "        if display_time:\n",
    "            stop = time.time()\n",
    "            print(f'Train time: {stop-start}')\n",
    "\n",
    "        self._beta = x\n",
    "        \n",
    "    def __call__(self):\n",
    "        H = self._activation( np.dot(self.X, self._w) + self._bias )\n",
    "        return np.dot(H, self._beta)"
   ]
  },
  {
   "cell_type": "markdown",
   "id": "26d8ae07-4333-48b9-a6b0-1fab7a12a1f3",
   "metadata": {},
   "source": [
    "### Prepare Data"
   ]
  },
  {
   "cell_type": "code",
   "execution_count": 6,
   "id": "ebb6714e-84ee-4a75-8e1b-5dee697c0ed8",
   "metadata": {},
   "outputs": [],
   "source": [
    "(x_train, y_train), (x_test, y_test) = keras.datasets.mnist.load_data()"
   ]
  },
  {
   "cell_type": "code",
   "execution_count": 7,
   "id": "6efb1625-a694-4c37-bb65-79e8c5cc71c2",
   "metadata": {},
   "outputs": [],
   "source": [
    "x_train = x_train.reshape((x_train.shape[0], 28 * 28))"
   ]
  },
  {
   "cell_type": "code",
   "execution_count": 8,
   "id": "e5cd72af-01a5-4df6-9d90-49884118dad5",
   "metadata": {},
   "outputs": [],
   "source": [
    "x_test = x_test.reshape((x_test.shape[0], 28 * 28))"
   ]
  },
  {
   "cell_type": "code",
   "execution_count": 9,
   "id": "f2c174c2-d8ba-433e-a18e-50bca4894da4",
   "metadata": {},
   "outputs": [],
   "source": [
    "b = np.zeros((y_train.size, y_train.max()+1))\n",
    "b[np.arange(y_train.size), y_train] = 1"
   ]
  },
  {
   "cell_type": "code",
   "execution_count": 10,
   "id": "83109854-3da3-4396-ac5e-bb24b66e499c",
   "metadata": {},
   "outputs": [],
   "source": [
    "y_train = b"
   ]
  },
  {
   "cell_type": "code",
   "execution_count": 11,
   "id": "b44f7538-f732-453a-8557-6302420e2303",
   "metadata": {},
   "outputs": [
    {
     "data": {
      "text/plain": [
       "(60000, 784)"
      ]
     },
     "execution_count": 11,
     "metadata": {},
     "output_type": "execute_result"
    }
   ],
   "source": [
    "x_train.shape"
   ]
  },
  {
   "cell_type": "code",
   "execution_count": 12,
   "id": "678afa48-08ed-4fb3-8751-38d4274b2729",
   "metadata": {},
   "outputs": [],
   "source": [
    "hidden_node = 100\n",
    "train_layer = x_train\n",
    "itrs = 100\n",
    "lam = 1e-1"
   ]
  },
  {
   "cell_type": "code",
   "execution_count": 13,
   "id": "c9ff58f3-9b5a-45c2-bfe0-fc98dfb07c79",
   "metadata": {},
   "outputs": [
    {
     "name": "stderr",
     "output_type": "stream",
     "text": [
      "C:\\Users\\ideapad 330\\.conda\\envs\\AIML\\lib\\site-packages\\ipykernel_launcher.py:10: RuntimeWarning: overflow encountered in exp\n",
      "  # Remove the CWD from sys.path while we load stuff.\n"
     ]
    }
   ],
   "source": [
    "model_ae = ELM_AE(hidden_node, train_layer)\n",
    "model_ae.fit(itrs, lam)"
   ]
  },
  {
   "cell_type": "code",
   "execution_count": 14,
   "id": "85ead3b3-824e-4694-8c68-df77a28a9238",
   "metadata": {},
   "outputs": [],
   "source": [
    "beta = model_ae._beta"
   ]
  },
  {
   "cell_type": "code",
   "execution_count": 15,
   "id": "a2f21737-4385-45f9-b8f2-f38c6ed266bd",
   "metadata": {},
   "outputs": [
    {
     "data": {
      "text/plain": [
       "(100, 784)"
      ]
     },
     "execution_count": 15,
     "metadata": {},
     "output_type": "execute_result"
    }
   ],
   "source": [
    "beta.shape"
   ]
  },
  {
   "cell_type": "code",
   "execution_count": 16,
   "id": "26b0e221-45a0-4a8f-b4d7-bd82198340ab",
   "metadata": {},
   "outputs": [],
   "source": [
    "bias = model_ae._bias"
   ]
  },
  {
   "cell_type": "code",
   "execution_count": 17,
   "id": "ebd43cd3-d695-4087-9f83-bc37950a96c5",
   "metadata": {},
   "outputs": [
    {
     "data": {
      "text/plain": [
       "(100,)"
      ]
     },
     "execution_count": 17,
     "metadata": {},
     "output_type": "execute_result"
    }
   ],
   "source": [
    "bias.shape"
   ]
  },
  {
   "cell_type": "code",
   "execution_count": 18,
   "id": "3a21c5ed-4b42-42c1-8724-fef8aad61eb3",
   "metadata": {},
   "outputs": [
    {
     "name": "stderr",
     "output_type": "stream",
     "text": [
      "C:\\Users\\ideapad 330\\.conda\\envs\\AIML\\lib\\site-packages\\ipykernel_launcher.py:10: RuntimeWarning: overflow encountered in exp\n",
      "  # Remove the CWD from sys.path while we load stuff.\n"
     ]
    }
   ],
   "source": [
    "la = model_ae()"
   ]
  },
  {
   "cell_type": "code",
   "execution_count": 19,
   "id": "713c0cf6-f0d4-41f2-a2cb-4578252ab031",
   "metadata": {},
   "outputs": [
    {
     "data": {
      "text/plain": [
       "(60000, 784)"
      ]
     },
     "execution_count": 19,
     "metadata": {},
     "output_type": "execute_result"
    }
   ],
   "source": [
    "la.shape"
   ]
  },
  {
   "cell_type": "code",
   "execution_count": 20,
   "id": "b100c9f1-0737-4569-9d57-f148b6f72962",
   "metadata": {},
   "outputs": [],
   "source": [
    "def g(w, bias, x):\n",
    "    activation = getActivation('sigmoid')\n",
    "    H = activation( np.dot(x, w) + bias )\n",
    "    return H"
   ]
  },
  {
   "cell_type": "code",
   "execution_count": 21,
   "id": "cd27c4ec-35aa-48a7-a881-dda437667c12",
   "metadata": {},
   "outputs": [
    {
     "name": "stderr",
     "output_type": "stream",
     "text": [
      "C:\\Users\\ideapad 330\\.conda\\envs\\AIML\\lib\\site-packages\\ipykernel_launcher.py:10: RuntimeWarning: overflow encountered in exp\n",
      "  # Remove the CWD from sys.path while we load stuff.\n"
     ]
    }
   ],
   "source": [
    "h = g(beta.T, bias, la)"
   ]
  },
  {
   "cell_type": "code",
   "execution_count": 22,
   "id": "5c8f0561-1744-47f8-9aa3-65543cc987d6",
   "metadata": {},
   "outputs": [
    {
     "data": {
      "text/plain": [
       "(60000, 100)"
      ]
     },
     "execution_count": 22,
     "metadata": {},
     "output_type": "execute_result"
    }
   ],
   "source": [
    "h.shape"
   ]
  },
  {
   "cell_type": "code",
   "execution_count": 65,
   "id": "7d9570a5-b737-41b4-94c9-2225e71b44b1",
   "metadata": {},
   "outputs": [
    {
     "name": "stderr",
     "output_type": "stream",
     "text": [
      "C:\\Users\\ideapad 330\\.conda\\envs\\AIML\\lib\\site-packages\\ipykernel_launcher.py:10: RuntimeWarning: overflow encountered in exp\n",
      "  # Remove the CWD from sys.path while we load stuff.\n"
     ]
    }
   ],
   "source": [
    "hidden_node = [400, 300, 100]\n",
    "train_layer = x_train\n",
    "itrs = 600\n",
    "lam = 1e-1\n",
    "BETA = []\n",
    "BIAS = []\n",
    "for n in hidden_node:\n",
    "    model_ae = ELM_AE(n, train_layer)\n",
    "    model_ae.fit(itrs, lam)\n",
    "\n",
    "    beta = model_ae._beta\n",
    "    bias = model_ae._bias\n",
    "    BETA.append(beta.T)\n",
    "    BIAS.append(bias)\n",
    "    la = model_ae()\n",
    "    train_layer = g(beta.T, bias, la)"
   ]
  },
  {
   "cell_type": "code",
   "execution_count": 66,
   "id": "d0cd4c0d-8f07-49ab-aad3-c16856cb1cd7",
   "metadata": {},
   "outputs": [
    {
     "data": {
      "text/plain": [
       "(784, 400)"
      ]
     },
     "execution_count": 66,
     "metadata": {},
     "output_type": "execute_result"
    }
   ],
   "source": [
    "BETA[0].shape"
   ]
  },
  {
   "cell_type": "code",
   "execution_count": 67,
   "id": "724bd2ea-b9f2-4efd-8b7e-c9aff24f666f",
   "metadata": {},
   "outputs": [
    {
     "data": {
      "text/plain": [
       "(400, 300)"
      ]
     },
     "execution_count": 67,
     "metadata": {},
     "output_type": "execute_result"
    }
   ],
   "source": [
    "BETA[1].shape"
   ]
  },
  {
   "cell_type": "code",
   "execution_count": 68,
   "id": "f284aace-a928-4946-a780-80a51afd7ca5",
   "metadata": {},
   "outputs": [
    {
     "name": "stderr",
     "output_type": "stream",
     "text": [
      "C:\\Users\\ideapad 330\\.conda\\envs\\AIML\\lib\\site-packages\\ipykernel_launcher.py:10: RuntimeWarning: overflow encountered in exp\n",
      "  # Remove the CWD from sys.path while we load stuff.\n"
     ]
    }
   ],
   "source": [
    "X = x_train\n",
    "for beta, bias in zip(BETA, BIAS):\n",
    "    train_layer = g(beta, bias, X)\n",
    "    X = train_layer"
   ]
  },
  {
   "cell_type": "code",
   "execution_count": 69,
   "id": "0e7bef9b-bc48-4b97-b233-f3f7b4bb1c01",
   "metadata": {},
   "outputs": [],
   "source": [
    "out_beta = fit(X, y_train, itrs, lam)"
   ]
  },
  {
   "cell_type": "code",
   "execution_count": 70,
   "id": "d9708096-acbd-4719-9210-fbe85a90a6ad",
   "metadata": {},
   "outputs": [],
   "source": [
    "pred = X.dot(out_beta)\n",
    "pred = np.argmax(pred, axis=1)"
   ]
  },
  {
   "cell_type": "code",
   "execution_count": 71,
   "id": "5cc04b9b-fb6e-4e2a-b8ed-97ede69ab94f",
   "metadata": {},
   "outputs": [
    {
     "data": {
      "text/plain": [
       "0.6278666666666667"
      ]
     },
     "execution_count": 71,
     "metadata": {},
     "output_type": "execute_result"
    }
   ],
   "source": [
    "sum(np.argmax(y_train, axis=1) == pred) / len(y_train)"
   ]
  },
  {
   "cell_type": "code",
   "execution_count": 72,
   "id": "2b047f2f-1016-45c2-a2df-0092418badcb",
   "metadata": {},
   "outputs": [
    {
     "name": "stderr",
     "output_type": "stream",
     "text": [
      "C:\\Users\\ideapad 330\\.conda\\envs\\AIML\\lib\\site-packages\\ipykernel_launcher.py:10: RuntimeWarning: overflow encountered in exp\n",
      "  # Remove the CWD from sys.path while we load stuff.\n"
     ]
    }
   ],
   "source": [
    "X = x_test\n",
    "for beta, bias in zip(BETA, BIAS):\n",
    "    train_layer = g(beta, bias, X)\n",
    "    X = train_layer"
   ]
  },
  {
   "cell_type": "code",
   "execution_count": 73,
   "id": "2700a9ce-c26d-4b2b-afd0-57d53752c4c0",
   "metadata": {},
   "outputs": [],
   "source": [
    "pred = X.dot(out_beta)\n",
    "pred = np.argmax(pred, axis=1)"
   ]
  },
  {
   "cell_type": "code",
   "execution_count": 74,
   "id": "0d0527b6-a8fe-4178-8f45-33f36e9fae7c",
   "metadata": {},
   "outputs": [
    {
     "data": {
      "text/plain": [
       "0.6347"
      ]
     },
     "execution_count": 74,
     "metadata": {},
     "output_type": "execute_result"
    }
   ],
   "source": [
    "sum(y_test == pred) / len(y_test)"
   ]
  },
  {
   "cell_type": "code",
   "execution_count": null,
   "id": "612b17b1-ef15-4dc3-a15b-6b2dff79fc26",
   "metadata": {},
   "outputs": [],
   "source": []
  }
 ],
 "metadata": {
  "kernelspec": {
   "display_name": "Python (AIML)",
   "language": "python",
   "name": "aiml"
  },
  "language_info": {
   "codemirror_mode": {
    "name": "ipython",
    "version": 3
   },
   "file_extension": ".py",
   "mimetype": "text/x-python",
   "name": "python",
   "nbconvert_exporter": "python",
   "pygments_lexer": "ipython3",
   "version": "3.7.9"
  }
 },
 "nbformat": 4,
 "nbformat_minor": 5
}
