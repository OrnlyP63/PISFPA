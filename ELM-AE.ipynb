{
 "cells": [
  {
   "cell_type": "code",
   "execution_count": 1,
   "id": "7c57de8e-69e9-4691-85ff-479e1c0db703",
   "metadata": {},
   "outputs": [],
   "source": [
    "import numpy as np\n",
    "from tensorflow import keras\n",
    "import matplotlib.pyplot as plt\n",
    "import time"
   ]
  },
  {
   "cell_type": "code",
   "execution_count": 2,
   "id": "980aa726-e436-4ef4-8c49-49d77c49ce3e",
   "metadata": {},
   "outputs": [],
   "source": [
    "#Error\n",
    "def _mean_squared_error(y, pred):\n",
    "    return 0.5 * np.mean((y - pred) ** 2)\n",
    "\n",
    "def _mean_abs_error(y, pred):\n",
    "    return np.mean(np.abs(y, pred))\n",
    "\n",
    "#activate function\n",
    "def _sigmoid(x):\n",
    "    return 1. / (1. + np.exp(-x))\n",
    "\n",
    "def _fourier(x):\n",
    "    return np.sin(x)\n",
    "\n",
    "def _identity(x):\n",
    "    return x\n",
    "\n",
    "def _hardlimit(x):\n",
    "    return (x >= 0).astype(int)\n",
    "\n",
    "#Get function\n",
    "def getActivation(name):\n",
    "    return {\n",
    "        'sigmoid': _sigmoid,\n",
    "        'fourier': _fourier,\n",
    "        'hardlimit': _hardlimit,\n",
    "    }[name]\n",
    "\n",
    "def getLoss(name):\n",
    "    return {\n",
    "        'mse': _mean_squared_error,\n",
    "        'mae': _mean_abs_error\n",
    "    }[name]\n",
    "\n",
    "#T function\n",
    "def T(x,L1,L2,cn):\n",
    "    r = x - np.dot(L1,x) + L2\n",
    "    s = np.abs(r)-cn\n",
    "    s = np.maximum(s,0,s)\n",
    "    return s*np.sign(r)\n",
    "\n",
    "def thetan(x0,x1,n):\n",
    "    if (x0==x1).all():\n",
    "        return 0\n",
    "    else:\n",
    "        return 1/(2**n*np.linalg.norm(x1-x0,'fro'))"
   ]
  },
  {
   "cell_type": "code",
   "execution_count": 3,
   "id": "d5ce3019-87fc-4643-8783-543f2502e224",
   "metadata": {},
   "outputs": [],
   "source": [
    "class ELM_AE:\n",
    "    def __init__(self, n_hidden, X, activation='sigmoid',loss='mse'):\n",
    "        self.X = X\n",
    "\n",
    "        self._num_input_nodes = X.shape[1]\n",
    "        self._num_output_units = X.shape[1]\n",
    "        self._num_hidden_units = n_hidden\n",
    "        \n",
    "        self._activation = getActivation(activation)\n",
    "        self._loss = getLoss(loss)\n",
    "        \n",
    "        self._beta = np.random.uniform(-1., 1., (self._num_hidden_units, self._num_output_units))\n",
    "        self._w = np.random.uniform(-1., 1., (self._num_input_nodes, self._num_hidden_units))\n",
    "        self._bias = np.zeros(shape=(self._num_hidden_units,))\n",
    "        \n",
    "        \n",
    "    def fit(self, itrs, lam, display_time=False):\n",
    "        H = self._activation(X.dot(self._w) + self._bias)\n",
    "\n",
    "        if display_time:\n",
    "            start = time.time()\n",
    "\n",
    "        L = 1. / np.max(np.linalg.eigvals(np.dot(H.T, H))).real\n",
    "        m = H.shape[1]\n",
    "        n = self._num_output_units\n",
    "        x0 = np.zeros((m,n))\n",
    "        x1 = np.zeros((m,n))\n",
    "        L1 = 2*L*np.dot(H.T, H)\n",
    "        L2 = 2*L*np.dot(H.T, X)\n",
    "\n",
    "        for i in range(1,itrs+1):\n",
    "            cn = ((2e-6*i)/(2*i+1))*lam*L\n",
    "            beta = 0.9*i/(i+1)\n",
    "            alpha = 0.9*i/(i+1)\n",
    "\n",
    "            y = x1 + thetan(x0,x1,i)*(x1-x0)\n",
    "            z = (1-beta)*x1 + beta*T(x1,L1,L2,cn)\n",
    "\n",
    "            Ty = T(y,L1,L2,cn)\n",
    "            Tz = T(z,L1,L2,cn)\n",
    "            x = (1-alpha)*Ty + alpha*Tz\n",
    "\n",
    "            x0, x1 = x1, x\n",
    "\n",
    "        if display_time:\n",
    "            stop = time.time()\n",
    "            print(f'Train time: {stop-start}')\n",
    "\n",
    "        self._beta = x\n",
    "        \n",
    "    def __call__(self):\n",
    "        H = self._activation( np.dot(self.X, self._w) + self._bias )\n",
    "        return np.dot(H, self._beta)"
   ]
  },
  {
   "cell_type": "code",
   "execution_count": 4,
   "id": "4bf66738-a464-4363-b7d2-970e2f9e8810",
   "metadata": {},
   "outputs": [],
   "source": [
    "(x_train, y_train), (x_test, y_test) = keras.datasets.mnist.load_data()"
   ]
  },
  {
   "cell_type": "code",
   "execution_count": 13,
   "id": "c15be521-ac7e-4e5c-b6f4-1da78f49f82b",
   "metadata": {},
   "outputs": [
    {
     "data": {
      "text/plain": [
       "(60000, 28, 28)"
      ]
     },
     "execution_count": 13,
     "metadata": {},
     "output_type": "execute_result"
    }
   ],
   "source": [
    "x_train.shape"
   ]
  },
  {
   "cell_type": "code",
   "execution_count": 5,
   "id": "d1b1472f-eb82-4d52-897f-94bf83c23a96",
   "metadata": {},
   "outputs": [],
   "source": [
    "X = x_train #[:1000]\n",
    "X = X.reshape((X.shape[0], 28 * 28))"
   ]
  },
  {
   "cell_type": "code",
   "execution_count": 6,
   "id": "0e6f5089-a2d3-4c6e-97ec-9d8a78ec2c5a",
   "metadata": {},
   "outputs": [],
   "source": [
    "model = ELM_AE(128, X)"
   ]
  },
  {
   "cell_type": "code",
   "execution_count": 7,
   "id": "06080ba1-9d23-4f6a-ab5c-907207652efe",
   "metadata": {},
   "outputs": [
    {
     "name": "stderr",
     "output_type": "stream",
     "text": [
      "C:\\Users\\ideapad 330\\anaconda3\\envs\\tf\\lib\\site-packages\\ipykernel_launcher.py:10: RuntimeWarning: overflow encountered in exp\n",
      "  # Remove the CWD from sys.path while we load stuff.\n"
     ]
    },
    {
     "name": "stdout",
     "output_type": "stream",
     "text": [
      "Train time: 0.7394182682037354\n"
     ]
    }
   ],
   "source": [
    "model.fit(itrs=20, lam=1e-1, display_time=True)"
   ]
  },
  {
   "cell_type": "code",
   "execution_count": 8,
   "id": "dfb3a726-6590-4bf4-ab5b-0b13a8ced448",
   "metadata": {},
   "outputs": [
    {
     "name": "stderr",
     "output_type": "stream",
     "text": [
      "C:\\Users\\ideapad 330\\anaconda3\\envs\\tf\\lib\\site-packages\\ipykernel_launcher.py:10: RuntimeWarning: overflow encountered in exp\n",
      "  # Remove the CWD from sys.path while we load stuff.\n"
     ]
    }
   ],
   "source": [
    "result = model()"
   ]
  },
  {
   "cell_type": "code",
   "execution_count": 9,
   "id": "8783e6ad-5a4c-4659-85a8-4fbb7fabf544",
   "metadata": {},
   "outputs": [
    {
     "data": {
      "text/plain": [
       "<matplotlib.image.AxesImage at 0x1ffdb7c8fc8>"
      ]
     },
     "execution_count": 9,
     "metadata": {},
     "output_type": "execute_result"
    },
    {
     "data": {
      "image/png": "[encoded data removed]",
      "text/plain": [
       "<Figure size 432x288 with 1 Axes>"
      ]
     },
     "metadata": {
      "needs_background": "light"
     },
     "output_type": "display_data"
    }
   ],
   "source": [
    "plt.imshow(X[5].reshape((28, 28)))"
   ]
  },
  {
   "cell_type": "code",
   "execution_count": 10,
   "id": "75e092b9-fd0f-4fc5-b085-797829478c14",
   "metadata": {},
   "outputs": [
    {
     "data": {
      "text/plain": [
       "<matplotlib.image.AxesImage at 0x1ffdb8d7608>"
      ]
     },
     "execution_count": 10,
     "metadata": {},
     "output_type": "execute_result"
    },
    {
     "data": {
      "image/png": "[encoded data removed]",
      "text/plain": [
       "<Figure size 432x288 with 1 Axes>"
      ]
     },
     "metadata": {
      "needs_background": "light"
     },
     "output_type": "display_data"
    }
   ],
   "source": [
    "plt.imshow(result[5].reshape((28, 28)))"
   ]
  },
  {
   "cell_type": "code",
   "execution_count": 11,
   "id": "139511a8-d0ec-4c34-b758-fd75deb6755d",
   "metadata": {},
   "outputs": [],
   "source": [
    "# images = []\n",
    "# n = 6\n",
    "# for x, r in zip(X[:n], result[:n]):\n",
    "#     images.extend([x.reshape((28, 28)), r.reshape((28, 28))])\n",
    "images_x = [x.reshape((28, 28)) for x in X[:5]]\n",
    "images_r = [r.reshape((28, 28)) for r in result[:5]]\n",
    "images = images_x + images_r"
   ]
  },
  {
   "cell_type": "code",
   "execution_count": 12,
   "id": "36b4f335-89bf-408a-a58e-ee1081834132",
   "metadata": {},
   "outputs": [
    {
     "data": {
      "image/png": "[encoded data removed]",
      "text/plain": [
       "<Figure size 540x288 with 10 Axes>"
      ]
     },
     "metadata": {
      "needs_background": "light"
     },
     "output_type": "display_data"
    }
   ],
   "source": [
    "num_row = 2\n",
    "num_col = 5# plot images\n",
    "fig, axes = plt.subplots(num_row, num_col, figsize=(1.5*num_col,2*num_row))\n",
    "for i in range(10):\n",
    "    ax = axes[i//num_col, i%num_col]\n",
    "    ax.imshow(images[i], cmap='gray')\n",
    "    #ax.set_title('Label: {}'.format(labels[i]))\n",
    "plt.tight_layout()\n",
    "plt.show()"
   ]
  },
  {
   "cell_type": "code",
   "execution_count": null,
   "id": "555e58f3-007e-4043-a384-da2de59c09cf",
   "metadata": {},
   "outputs": [],
   "source": []
  }
 ],
 "metadata": {
  "kernelspec": {
   "display_name": "Python (tf)",
   "language": "python",
   "name": "tf"
  },
  "language_info": {
   "codemirror_mode": {
    "name": "ipython",
    "version": 3
   },
   "file_extension": ".py",
   "mimetype": "text/x-python",
   "name": "python",
   "nbconvert_exporter": "python",
   "pygments_lexer": "ipython3",
   "version": "3.7.9"
  }
 },
 "nbformat": 4,
 "nbformat_minor": 5
}
