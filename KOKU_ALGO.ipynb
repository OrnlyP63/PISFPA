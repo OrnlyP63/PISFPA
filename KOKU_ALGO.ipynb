{
 "cells": [
  {
   "cell_type": "code",
   "execution_count": 1,
   "id": "58bf257b-3ad5-4e8a-b0d2-ef0fed9a88c8",
   "metadata": {},
   "outputs": [],
   "source": [
    "import numpy as np\n",
    "import seaborn as sns\n",
    "import pandas as pd\n",
    "from sklearn.model_selection import train_test_split"
   ]
  },
  {
   "cell_type": "code",
   "execution_count": 2,
   "id": "ddb14c09-8d25-4b15-a123-9f324dacf4fe",
   "metadata": {},
   "outputs": [],
   "source": [
    "#np.random.seed(0)"
   ]
  },
  {
   "cell_type": "code",
   "execution_count": 3,
   "id": "15785a69-8268-4293-bd5e-999b34e1cbcd",
   "metadata": {},
   "outputs": [],
   "source": [
    "iris = sns.load_dataset(\"iris\")"
   ]
  },
  {
   "cell_type": "code",
   "execution_count": 4,
   "id": "caca4cef-93f6-48c8-8e0c-e3baa07295c7",
   "metadata": {
    "tags": []
   },
   "outputs": [
    {
     "data": {
      "text/html": [
       "<div>\n",
       "<style scoped>\n",
       "    .dataframe tbody tr th:only-of-type {\n",
       "        vertical-align: middle;\n",
       "    }\n",
       "\n",
       "    .dataframe tbody tr th {\n",
       "        vertical-align: top;\n",
       "    }\n",
       "\n",
       "    .dataframe thead th {\n",
       "        text-align: right;\n",
       "    }\n",
       "</style>\n",
       "<table border=\"1\" class=\"dataframe\">\n",
       "  <thead>\n",
       "    <tr style=\"text-align: right;\">\n",
       "      <th></th>\n",
       "      <th>sepal_length</th>\n",
       "      <th>sepal_width</th>\n",
       "      <th>petal_length</th>\n",
       "      <th>petal_width</th>\n",
       "    </tr>\n",
       "  </thead>\n",
       "  <tbody>\n",
       "    <tr>\n",
       "      <th>0</th>\n",
       "      <td>5.1</td>\n",
       "      <td>3.5</td>\n",
       "      <td>1.4</td>\n",
       "      <td>0.2</td>\n",
       "    </tr>\n",
       "    <tr>\n",
       "      <th>1</th>\n",
       "      <td>4.9</td>\n",
       "      <td>3.0</td>\n",
       "      <td>1.4</td>\n",
       "      <td>0.2</td>\n",
       "    </tr>\n",
       "    <tr>\n",
       "      <th>2</th>\n",
       "      <td>4.7</td>\n",
       "      <td>3.2</td>\n",
       "      <td>1.3</td>\n",
       "      <td>0.2</td>\n",
       "    </tr>\n",
       "    <tr>\n",
       "      <th>3</th>\n",
       "      <td>4.6</td>\n",
       "      <td>3.1</td>\n",
       "      <td>1.5</td>\n",
       "      <td>0.2</td>\n",
       "    </tr>\n",
       "    <tr>\n",
       "      <th>4</th>\n",
       "      <td>5.0</td>\n",
       "      <td>3.6</td>\n",
       "      <td>1.4</td>\n",
       "      <td>0.2</td>\n",
       "    </tr>\n",
       "    <tr>\n",
       "      <th>...</th>\n",
       "      <td>...</td>\n",
       "      <td>...</td>\n",
       "      <td>...</td>\n",
       "      <td>...</td>\n",
       "    </tr>\n",
       "    <tr>\n",
       "      <th>145</th>\n",
       "      <td>6.7</td>\n",
       "      <td>3.0</td>\n",
       "      <td>5.2</td>\n",
       "      <td>2.3</td>\n",
       "    </tr>\n",
       "    <tr>\n",
       "      <th>146</th>\n",
       "      <td>6.3</td>\n",
       "      <td>2.5</td>\n",
       "      <td>5.0</td>\n",
       "      <td>1.9</td>\n",
       "    </tr>\n",
       "    <tr>\n",
       "      <th>147</th>\n",
       "      <td>6.5</td>\n",
       "      <td>3.0</td>\n",
       "      <td>5.2</td>\n",
       "      <td>2.0</td>\n",
       "    </tr>\n",
       "    <tr>\n",
       "      <th>148</th>\n",
       "      <td>6.2</td>\n",
       "      <td>3.4</td>\n",
       "      <td>5.4</td>\n",
       "      <td>2.3</td>\n",
       "    </tr>\n",
       "    <tr>\n",
       "      <th>149</th>\n",
       "      <td>5.9</td>\n",
       "      <td>3.0</td>\n",
       "      <td>5.1</td>\n",
       "      <td>1.8</td>\n",
       "    </tr>\n",
       "  </tbody>\n",
       "</table>\n",
       "<p>150 rows × 4 columns</p>\n",
       "</div>"
      ],
      "text/plain": [
       "     sepal_length  sepal_width  petal_length  petal_width\n",
       "0             5.1          3.5           1.4          0.2\n",
       "1             4.9          3.0           1.4          0.2\n",
       "2             4.7          3.2           1.3          0.2\n",
       "3             4.6          3.1           1.5          0.2\n",
       "4             5.0          3.6           1.4          0.2\n",
       "..            ...          ...           ...          ...\n",
       "145           6.7          3.0           5.2          2.3\n",
       "146           6.3          2.5           5.0          1.9\n",
       "147           6.5          3.0           5.2          2.0\n",
       "148           6.2          3.4           5.4          2.3\n",
       "149           5.9          3.0           5.1          1.8\n",
       "\n",
       "[150 rows x 4 columns]"
      ]
     },
     "execution_count": 4,
     "metadata": {},
     "output_type": "execute_result"
    }
   ],
   "source": [
    "iris.iloc[:,:4]"
   ]
  },
  {
   "cell_type": "code",
   "execution_count": 5,
   "id": "745c894d-0186-417a-8813-169c1e1a58ee",
   "metadata": {},
   "outputs": [],
   "source": [
    "X = iris.iloc[:,:4].values\n",
    "y = pd.get_dummies(iris.iloc[:, 4]).values"
   ]
  },
  {
   "cell_type": "code",
   "execution_count": 6,
   "id": "0ef5e08a-95fc-4403-947d-fa337808efb9",
   "metadata": {},
   "outputs": [],
   "source": [
    "X_train, X_test, y_train, y_test = train_test_split(X, y, test_size=0.30)"
   ]
  },
  {
   "cell_type": "code",
   "execution_count": 7,
   "id": "6a4e1515-05ea-4312-85f6-d86f3fb1f697",
   "metadata": {},
   "outputs": [],
   "source": [
    "L = 15\n",
    "D = X_train.shape[1]"
   ]
  },
  {
   "cell_type": "code",
   "execution_count": 8,
   "id": "fe00dd5d-5dc5-4496-9bba-f16523e66d63",
   "metadata": {},
   "outputs": [],
   "source": [
    "#x0 = np.random.normal(size=(L, D))\n",
    "#x = np.random.normal(size=(L, D))\n",
    "theta = 0.1\n",
    "gamma = 0.4\n",
    "beta = 0.4\n",
    "alpha = 0.5"
   ]
  },
  {
   "cell_type": "code",
   "execution_count": 9,
   "id": "24e226fd-bb53-4816-a78f-c7f3c19b518a",
   "metadata": {},
   "outputs": [],
   "source": [
    "def sigmoid(x):\n",
    "    return 1 / (1 + np.exp(-1 * x))\n",
    "\n",
    "def relu(x):\n",
    "    return np.maximum(x, 0, x)"
   ]
  },
  {
   "cell_type": "code",
   "execution_count": 10,
   "id": "3ff8b02f-fab0-4ab9-9479-8e84b493cd94",
   "metadata": {},
   "outputs": [],
   "source": [
    "#T function\n",
    "def T(x,L1,L2,cn):\n",
    "    r = x - np.dot(L1,x) + L2\n",
    "    s = np.abs(r)-cn\n",
    "    s = np.maximum(s,0,s)\n",
    "    return s*np.sign(r)\n",
    "\n",
    "def thetan(x0,x1,n):\n",
    "    if (x0==x1).all():\n",
    "        return 0\n",
    "    else:\n",
    "        return 1/(2**n*np.linalg.norm(x1-x0,'fro'))"
   ]
  },
  {
   "cell_type": "code",
   "execution_count": 11,
   "id": "fd29a75f-5a35-4b2c-ba75-3dd4f4fa0061",
   "metadata": {},
   "outputs": [],
   "source": [
    "w = np.random.normal(size=(D, L))\n",
    "b = np.random.normal(size=(L, ))"
   ]
  },
  {
   "cell_type": "code",
   "execution_count": 12,
   "id": "c5fcd212-ba8c-46fd-997e-fad4c937f710",
   "metadata": {},
   "outputs": [],
   "source": [
    "H = sigmoid(np.dot(X_train, w) + b)\n",
    "\n",
    "itrs = 100\n",
    "L = 1. / np.max(np.linalg.eigvals(np.dot(H.T, H))).real\n",
    "m = H.shape[1]\n",
    "n = y_train.shape[1]\n",
    "x0 = np.zeros((m,n))\n",
    "x = np.zeros((m,n))\n",
    "L1 = 2 * L * np.dot(H.T, H)\n",
    "L2 = 2 * L * np.dot(H.T, y_train)\n",
    "lam = 10e-5\n",
    "for i in range(1,itrs+1):\n",
    "    cn = ((2e-6*i)/(2*i+1))*lam*L\n",
    "    #beta = 0.9*i/(i+1)\n",
    "    #alpha = 0.9*i/(i+1)\n",
    "\n",
    "    y = x + theta * (x - x0)\n",
    "    z = (1 - gamma - beta) * x + gamma * T(x,L1,L2,cn) + beta * T(x,L1,L2,cn)\n",
    "    x1 = (1 - alpha) * T(y,L1,L2,cn) + alpha * T(z,L1,L2,cn)\n",
    "\n",
    "    x0, x = x, x1"
   ]
  },
  {
   "cell_type": "code",
   "execution_count": 13,
   "id": "6f44d922-0a5f-430a-8577-866a44c0a4ae",
   "metadata": {},
   "outputs": [],
   "source": [
    "Beta = x"
   ]
  },
  {
   "cell_type": "code",
   "execution_count": 14,
   "id": "7922606a-6b07-469b-9bd6-be1332f31aca",
   "metadata": {},
   "outputs": [
    {
     "data": {
      "text/plain": [
       "array([[ 3.42750464e-01,  3.74420345e-02, -1.14601235e-01],\n",
       "       [ 1.40023433e-04, -9.25569934e-05, -2.71305114e-06],\n",
       "       [ 6.61373560e-03, -4.70819664e-03,  2.03338689e-04],\n",
       "       [-2.17222700e-03, -9.28394464e-03,  1.10121806e-02],\n",
       "       [ 2.33835870e-04,  3.92252736e-04, -5.23592332e-04],\n",
       "       [ 3.46085675e-01,  3.48414547e-02, -1.14238370e-01],\n",
       "       [ 8.46065425e-02,  1.80183334e-01, -8.21206326e-02],\n",
       "       [ 3.35763417e-01, -1.48998863e-01,  6.35540241e-02],\n",
       "       [ 5.48092828e-02, -3.12204890e-02, -8.53890943e-03],\n",
       "       [ 7.39444999e-02,  8.20835190e-02, -1.28645122e-01],\n",
       "       [ 8.42228454e-02,  2.57252087e-02, -8.06838574e-02],\n",
       "       [-9.33803081e-01,  2.69670838e-01,  5.85894165e-01],\n",
       "       [ 2.44976059e-05,  2.25656914e-04, -2.28380108e-04],\n",
       "       [-2.68439153e-01,  2.91343354e-01,  7.29986591e-02],\n",
       "       [ 1.39514204e-01, -5.40937668e-01,  4.71944095e-01]])"
      ]
     },
     "execution_count": 14,
     "metadata": {},
     "output_type": "execute_result"
    }
   ],
   "source": [
    "Beta"
   ]
  },
  {
   "cell_type": "code",
   "execution_count": 15,
   "id": "8fc42acf-cbc1-4e87-be30-11dbb58b0bea",
   "metadata": {},
   "outputs": [],
   "source": [
    "H_y = sigmoid(np.dot(X_test, w) + b)"
   ]
  },
  {
   "cell_type": "code",
   "execution_count": 16,
   "id": "c7efa413-0b26-4641-ab5b-b28bbde12f3a",
   "metadata": {},
   "outputs": [],
   "source": [
    "pred = H_y @ Beta"
   ]
  },
  {
   "cell_type": "code",
   "execution_count": 17,
   "id": "0473009c-76ce-4f3c-be70-211fe67d34b0",
   "metadata": {},
   "outputs": [],
   "source": [
    "pred_tr = H @ Beta"
   ]
  },
  {
   "cell_type": "code",
   "execution_count": 18,
   "id": "6c719fee-f0c3-43fc-b9de-066dd11d4817",
   "metadata": {},
   "outputs": [
    {
     "data": {
      "text/plain": [
       "0.8"
      ]
     },
     "execution_count": 18,
     "metadata": {},
     "output_type": "execute_result"
    }
   ],
   "source": [
    "sum(np.argmax(pred_tr, axis=1) == np.argmax(y_train, axis=1)) / y_train.shape[0]"
   ]
  },
  {
   "cell_type": "code",
   "execution_count": 19,
   "id": "611ae806-e0e5-4201-9b03-f850063d99f8",
   "metadata": {},
   "outputs": [
    {
     "data": {
      "text/plain": [
       "0.7333333333333333"
      ]
     },
     "execution_count": 19,
     "metadata": {},
     "output_type": "execute_result"
    }
   ],
   "source": [
    "sum(np.argmax(pred, axis=1) == np.argmax(y_test, axis=1)) / y_test.shape[0]"
   ]
  },
  {
   "cell_type": "code",
   "execution_count": null,
   "id": "aaddf50c-0970-4901-97dd-522db29423a0",
   "metadata": {},
   "outputs": [],
   "source": []
  }
 ],
 "metadata": {
  "kernelspec": {
   "display_name": "Python (AIML)",
   "language": "python",
   "name": "aiml"
  },
  "language_info": {
   "codemirror_mode": {
    "name": "ipython",
    "version": 3
   },
   "file_extension": ".py",
   "mimetype": "text/x-python",
   "name": "python",
   "nbconvert_exporter": "python",
   "pygments_lexer": "ipython3",
   "version": "3.7.9"
  }
 },
 "nbformat": 4,
 "nbformat_minor": 5
}
