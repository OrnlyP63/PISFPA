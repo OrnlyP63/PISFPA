{
 "cells": [
  {
   "cell_type": "code",
   "execution_count": 1,
   "id": "5bb65d31-b8c4-45f3-ad50-aa3af93f0816",
   "metadata": {},
   "outputs": [],
   "source": [
    "import numpy as np\n",
    "from tensorflow import keras\n",
    "import matplotlib.pyplot as plt\n",
    "import time\n",
    "from functools import reduce"
   ]
  },
  {
   "cell_type": "code",
   "execution_count": 2,
   "id": "c07a7c76-a4d2-4206-8ffb-672e59e4cc74",
   "metadata": {},
   "outputs": [],
   "source": [
    "a = np.ones((5,5))\n",
    "b = np.ones((5,6))\n",
    "c = np.ones((6,1))"
   ]
  },
  {
   "cell_type": "code",
   "execution_count": 3,
   "id": "4fb47ba4-741c-4d74-9096-d24e68e8e5e4",
   "metadata": {},
   "outputs": [
    {
     "data": {
      "text/plain": [
       "array([[30.],\n",
       "       [30.],\n",
       "       [30.],\n",
       "       [30.],\n",
       "       [30.]])"
      ]
     },
     "execution_count": 3,
     "metadata": {},
     "output_type": "execute_result"
    }
   ],
   "source": [
    "a @ b @ c"
   ]
  },
  {
   "cell_type": "code",
   "execution_count": 4,
   "id": "b173b28c-7e18-40bb-bf0b-0ad352ebcbdb",
   "metadata": {},
   "outputs": [
    {
     "data": {
      "text/plain": [
       "array([[30.],\n",
       "       [30.],\n",
       "       [30.],\n",
       "       [30.],\n",
       "       [30.]])"
      ]
     },
     "execution_count": 4,
     "metadata": {},
     "output_type": "execute_result"
    }
   ],
   "source": [
    "np.linalg.multi_dot([a, b, c])"
   ]
  },
  {
   "cell_type": "code",
   "execution_count": 5,
   "id": "2f34317b-d03c-4045-8df1-79097e885044",
   "metadata": {},
   "outputs": [
    {
     "data": {
      "text/plain": [
       "array([[30.],\n",
       "       [30.],\n",
       "       [30.],\n",
       "       [30.],\n",
       "       [30.]])"
      ]
     },
     "execution_count": 5,
     "metadata": {},
     "output_type": "execute_result"
    }
   ],
   "source": [
    "reduce(np.dot, [a, b, c])"
   ]
  },
  {
   "cell_type": "code",
   "execution_count": 6,
   "id": "fc1aa498-7f63-49d8-8b70-986ff73d30de",
   "metadata": {},
   "outputs": [],
   "source": [
    "#Error\n",
    "def _mean_squared_error(y, pred):\n",
    "    return 0.5 * np.mean((y - pred) ** 2)\n",
    "\n",
    "def _mean_abs_error(y, pred):\n",
    "    return np.mean(np.abs(y, pred))\n",
    "\n",
    "#activate function\n",
    "def _sigmoid(x):\n",
    "    return 1. / (1. + np.exp(-x))\n",
    "\n",
    "def _fourier(x):\n",
    "    return np.sin(x)\n",
    "\n",
    "def _identity(x):\n",
    "    return x\n",
    "\n",
    "def _hardlimit(x):\n",
    "    return (x >= 0).astype(int)\n",
    "\n",
    "#Get function\n",
    "def getActivation(name):\n",
    "    return {\n",
    "        'sigmoid': _sigmoid,\n",
    "        'fourier': _fourier,\n",
    "        'hardlimit': _hardlimit,\n",
    "    }[name]\n",
    "\n",
    "def getLoss(name):\n",
    "    return {\n",
    "        'mse': _mean_squared_error,\n",
    "        'mae': _mean_abs_error\n",
    "    }[name]\n",
    "\n",
    "#T function\n",
    "def T(x,L1,L2,cn):\n",
    "    r = x - np.dot(L1,x) + L2\n",
    "    s = np.abs(r)-cn\n",
    "    s = np.maximum(s,0,s)\n",
    "    return s*np.sign(r)\n",
    "\n",
    "def thetan(x0,x1,n):\n",
    "    if (x0==x1).all():\n",
    "        return 0\n",
    "    else:\n",
    "        return 1/(2**n*np.linalg.norm(x1-x0,'fro'))"
   ]
  },
  {
   "cell_type": "code",
   "execution_count": 7,
   "id": "571ffd28-a61f-4948-bdf2-27e987341b45",
   "metadata": {},
   "outputs": [],
   "source": [
    "def fit(H, Y, itrs, lam, display_time=False):\n",
    "    #H = self._activation(X.dot(self._w) + self._bias)\n",
    "\n",
    "    if display_time:\n",
    "        start = time.time()\n",
    "\n",
    "    L = 1. / np.max(np.linalg.eigvals(np.dot(H.T, H))).real\n",
    "    m = H.shape[1]\n",
    "    n = Y.shape[1]\n",
    "    x0 = np.zeros((m,n))\n",
    "    x1 = np.zeros((m,n))\n",
    "    L1 = 2*L*np.dot(H.T, H)\n",
    "    L2 = 2*L*np.dot(H.T, Y)\n",
    "\n",
    "    for i in range(1,itrs+1):\n",
    "        cn = ((2e-6*i)/(2*i+1))*lam*L\n",
    "        beta = 0.9*i/(i+1)\n",
    "        alpha = 0.9*i/(i+1)\n",
    "\n",
    "        y = x1 + thetan(x0,x1,i)*(x1-x0)\n",
    "        z = (1-beta)*x1 + beta*T(x1,L1,L2,cn)\n",
    "\n",
    "        Ty = T(y,L1,L2,cn)\n",
    "        Tz = T(z,L1,L2,cn)\n",
    "        x = (1-alpha)*Ty + alpha*Tz\n",
    "\n",
    "        x0, x1 = x1, x\n",
    "\n",
    "    if display_time:\n",
    "        stop = time.time()\n",
    "        print(f'Train time: {stop-start}')\n",
    "\n",
    "    return x"
   ]
  },
  {
   "cell_type": "code",
   "execution_count": 8,
   "id": "575d4c0e-3276-48cf-bd47-7d644100c4e9",
   "metadata": {},
   "outputs": [],
   "source": [
    "class ELM_AE:\n",
    "    def __init__(self, n_hidden, X, activation='sigmoid',loss='mse'):\n",
    "        self.X = X\n",
    "\n",
    "        self._num_input_nodes = X.shape[1]\n",
    "        self._num_output_units = X.shape[1]\n",
    "        self._num_hidden_units = n_hidden\n",
    "        \n",
    "        self._activation = getActivation(activation)\n",
    "        self._loss = getLoss(loss)\n",
    "        \n",
    "        self._beta = np.random.uniform(-1., 1., (self._num_hidden_units, self._num_output_units))\n",
    "        self._w = np.random.uniform(-1., 1., (self._num_input_nodes, self._num_hidden_units))\n",
    "        self._bias = np.zeros(shape=(self._num_hidden_units,))\n",
    "        \n",
    "        \n",
    "    def fit(self, itrs, lam, display_time=False):\n",
    "        H = self._activation(np.dot(self.X, self._w) + self._bias)\n",
    "\n",
    "        if display_time:\n",
    "            start = time.time()\n",
    "\n",
    "        L = 1. / np.max(np.linalg.eigvals(np.dot(H.T, H))).real\n",
    "        m = H.shape[1]\n",
    "        n = self._num_output_units\n",
    "        x0 = np.zeros((m,n))\n",
    "        x1 = np.zeros((m,n))\n",
    "        L1 = 2*L*np.dot(H.T, H)\n",
    "        L2 = 2*L*np.dot(H.T, self.X)\n",
    "\n",
    "        for i in range(1,itrs+1):\n",
    "            cn = ((2e-6*i)/(2*i+1))*lam*L\n",
    "            beta = 0.9*i/(i+1)\n",
    "            alpha = 0.9*i/(i+1)\n",
    "\n",
    "            y = x1 + thetan(x0,x1,i)*(x1-x0)\n",
    "            z = (1-beta)*x1 + beta*T(x1,L1,L2,cn)\n",
    "\n",
    "            Ty = T(y,L1,L2,cn)\n",
    "            Tz = T(z,L1,L2,cn)\n",
    "            x = (1-alpha)*Ty + alpha*Tz\n",
    "\n",
    "            x0, x1 = x1, x\n",
    "\n",
    "        if display_time:\n",
    "            stop = time.time()\n",
    "            print(f'Train time: {stop-start}')\n",
    "\n",
    "        self._beta = x\n",
    "        \n",
    "    def __call__(self):\n",
    "        H = self._activation( np.dot(self.X, self._w) + self._bias )\n",
    "        return np.dot(H, self._beta)"
   ]
  },
  {
   "cell_type": "code",
   "execution_count": 9,
   "id": "21360358-8b70-4ca9-b986-b85709d3d587",
   "metadata": {},
   "outputs": [],
   "source": [
    "class DELM:\n",
    "    def __init__(self, X, y, hidden):\n",
    "        self.X = X\n",
    "        self.y = y\n",
    "        self.hidden = hidden\n",
    "        \n",
    "    def fit(self, itrs, lam):\n",
    "        train_layer = self.X\n",
    "        self.w_layers = []\n",
    "        \n",
    "        for n in self.hidden:\n",
    "            model_ae = ELM_AE(n, train_layer)\n",
    "            model_ae.fit(itrs, lam)\n",
    "            V = model_ae._beta\n",
    "            self.w_layers.append(V.T)\n",
    "            \n",
    "            train_layer = train_layer @ V.T\n",
    "        \n",
    "        \n",
    "        V = fit(train_layer, self.y, itrs, lam)\n",
    "        self.w_layers.append(V)\n",
    "        print(train_layer.shape)\n",
    "        print(V.shape)\n",
    "        self.output = train_layer @ V\n",
    "        \n",
    "    def __call__(self, X):\n",
    "        return np.linalg.multi_dot([X] + self.w_layers)"
   ]
  },
  {
   "cell_type": "code",
   "execution_count": 10,
   "id": "1541573b-3ba4-4a78-ad13-171e8159f966",
   "metadata": {},
   "outputs": [],
   "source": [
    "(x_train, y_train), (x_test, y_test) = keras.datasets.mnist.load_data()"
   ]
  },
  {
   "cell_type": "code",
   "execution_count": 11,
   "id": "6f39a59f-56bb-4150-990c-382b1cf739e9",
   "metadata": {},
   "outputs": [],
   "source": [
    "x_train = x_train.reshape((x_train.shape[0], 28 * 28))"
   ]
  },
  {
   "cell_type": "code",
   "execution_count": 12,
   "id": "5dab8ff3-1bdb-488e-922a-3a8c0641bab5",
   "metadata": {},
   "outputs": [],
   "source": [
    "b = np.zeros((y_train.size, y_train.max()+1))\n",
    "b[np.arange(y_train.size), y_train] = 1"
   ]
  },
  {
   "cell_type": "code",
   "execution_count": 13,
   "id": "d0b95c3d-f20d-40a9-ba0a-3edad52c8fd6",
   "metadata": {},
   "outputs": [],
   "source": [
    "y_train = b"
   ]
  },
  {
   "cell_type": "code",
   "execution_count": 14,
   "id": "92a020b3-bd2b-4962-9f92-5ea3206c5cd3",
   "metadata": {},
   "outputs": [],
   "source": [
    "model = DELM(x_train, y_train, [256, 128, 64])"
   ]
  },
  {
   "cell_type": "code",
   "execution_count": 15,
   "id": "a78e5feb-79c9-4319-85ae-84f69e25c9b0",
   "metadata": {},
   "outputs": [
    {
     "name": "stderr",
     "output_type": "stream",
     "text": [
      "C:\\Users\\ideapad 330\\anaconda3\\envs\\tf\\lib\\site-packages\\ipykernel_launcher.py:10: RuntimeWarning: overflow encountered in exp\n",
      "  # Remove the CWD from sys.path while we load stuff.\n"
     ]
    },
    {
     "name": "stdout",
     "output_type": "stream",
     "text": [
      "(60000, 64)\n",
      "(64, 10)\n"
     ]
    }
   ],
   "source": [
    "model.fit(itrs=20, lam=1e-1)"
   ]
  },
  {
   "cell_type": "code",
   "execution_count": 16,
   "id": "bbfcaa71-e581-4d23-9e92-1999884de193",
   "metadata": {},
   "outputs": [],
   "source": [
    "predict = model(x_test.reshape((x_test.shape[0], 28 * 28)))"
   ]
  },
  {
   "cell_type": "code",
   "execution_count": 17,
   "id": "196bdbf1-908d-481a-a096-5607876e10dd",
   "metadata": {},
   "outputs": [],
   "source": [
    "predict = np.argmax(predict, axis=1)"
   ]
  },
  {
   "cell_type": "code",
   "execution_count": 18,
   "id": "2012bd9d-0858-473b-92ee-59984081de0d",
   "metadata": {},
   "outputs": [
    {
     "data": {
      "text/plain": [
       "array([7, 6, 1, ..., 1, 1, 6], dtype=int64)"
      ]
     },
     "execution_count": 18,
     "metadata": {},
     "output_type": "execute_result"
    }
   ],
   "source": [
    "predict"
   ]
  },
  {
   "cell_type": "code",
   "execution_count": 19,
   "id": "2276bf1f-a9ac-4019-aa96-feeb83cd3637",
   "metadata": {},
   "outputs": [
    {
     "data": {
      "text/plain": [
       "array([7, 2, 1, ..., 4, 5, 6], dtype=uint8)"
      ]
     },
     "execution_count": 19,
     "metadata": {},
     "output_type": "execute_result"
    }
   ],
   "source": [
    "y_test"
   ]
  },
  {
   "cell_type": "code",
   "execution_count": 20,
   "id": "61ff2e2e-0286-4c8c-ad7b-020d8ff59545",
   "metadata": {},
   "outputs": [
    {
     "data": {
      "text/plain": [
       "0.5519"
      ]
     },
     "execution_count": 20,
     "metadata": {},
     "output_type": "execute_result"
    }
   ],
   "source": [
    "sum(predict == y_test)/y_test.shape[0]"
   ]
  },
  {
   "cell_type": "code",
   "execution_count": null,
   "id": "25e7f757-adfc-46be-9ef8-a3fba8baf428",
   "metadata": {},
   "outputs": [],
   "source": []
  }
 ],
 "metadata": {
  "kernelspec": {
   "display_name": "Python (tf)",
   "language": "python",
   "name": "tf"
  },
  "language_info": {
   "codemirror_mode": {
    "name": "ipython",
    "version": 3
   },
   "file_extension": ".py",
   "mimetype": "text/x-python",
   "name": "python",
   "nbconvert_exporter": "python",
   "pygments_lexer": "ipython3",
   "version": "3.7.9"
  }
 },
 "nbformat": 4,
 "nbformat_minor": 5
}
