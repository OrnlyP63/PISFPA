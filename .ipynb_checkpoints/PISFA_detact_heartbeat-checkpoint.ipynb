{
 "cells": [
  {
   "cell_type": "code",
   "execution_count": 1,
   "metadata": {},
   "outputs": [],
   "source": [
    "from PISFA import PISFPA, PISFPA_PCA, PISFPA_GRP\n",
    "import numpy as np\n",
    "import pandas as pd\n",
    "from sklearn.model_selection import train_test_split"
   ]
  },
  {
   "cell_type": "code",
   "execution_count": 2,
   "metadata": {},
   "outputs": [],
   "source": [
    "df = pd.read_csv('LDV_beat_dataset.csv')"
   ]
  },
  {
   "cell_type": "code",
   "execution_count": 3,
   "metadata": {},
   "outputs": [
    {
     "data": {
      "text/html": [
       "<div>\n",
       "<style scoped>\n",
       "    .dataframe tbody tr th:only-of-type {\n",
       "        vertical-align: middle;\n",
       "    }\n",
       "\n",
       "    .dataframe tbody tr th {\n",
       "        vertical-align: top;\n",
       "    }\n",
       "\n",
       "    .dataframe thead th {\n",
       "        text-align: right;\n",
       "    }\n",
       "</style>\n",
       "<table border=\"1\" class=\"dataframe\">\n",
       "  <thead>\n",
       "    <tr style=\"text-align: right;\">\n",
       "      <th></th>\n",
       "      <th>sample1</th>\n",
       "      <th>sample2</th>\n",
       "      <th>sample3</th>\n",
       "      <th>sample4</th>\n",
       "      <th>sample5</th>\n",
       "      <th>sample6</th>\n",
       "      <th>sample7</th>\n",
       "      <th>sample8</th>\n",
       "      <th>sample9</th>\n",
       "      <th>sample10</th>\n",
       "      <th>...</th>\n",
       "      <th>sample68</th>\n",
       "      <th>sample69</th>\n",
       "      <th>sample70</th>\n",
       "      <th>sample71</th>\n",
       "      <th>sample72</th>\n",
       "      <th>sample73</th>\n",
       "      <th>sample74</th>\n",
       "      <th>sample75</th>\n",
       "      <th>beat</th>\n",
       "      <th>subject</th>\n",
       "    </tr>\n",
       "  </thead>\n",
       "  <tbody>\n",
       "    <tr>\n",
       "      <th>0</th>\n",
       "      <td>-2.620</td>\n",
       "      <td>-2.595</td>\n",
       "      <td>-2.670</td>\n",
       "      <td>-2.705</td>\n",
       "      <td>-2.620</td>\n",
       "      <td>-2.615</td>\n",
       "      <td>-2.600</td>\n",
       "      <td>-2.620</td>\n",
       "      <td>-2.550</td>\n",
       "      <td>-2.630</td>\n",
       "      <td>...</td>\n",
       "      <td>2.370</td>\n",
       "      <td>2.565</td>\n",
       "      <td>2.720</td>\n",
       "      <td>2.850</td>\n",
       "      <td>2.945</td>\n",
       "      <td>3.005</td>\n",
       "      <td>2.995</td>\n",
       "      <td>2.990</td>\n",
       "      <td>0</td>\n",
       "      <td>8</td>\n",
       "    </tr>\n",
       "    <tr>\n",
       "      <th>1</th>\n",
       "      <td>-2.315</td>\n",
       "      <td>-2.345</td>\n",
       "      <td>-2.185</td>\n",
       "      <td>-2.155</td>\n",
       "      <td>-2.100</td>\n",
       "      <td>-2.030</td>\n",
       "      <td>-1.970</td>\n",
       "      <td>-1.875</td>\n",
       "      <td>-1.825</td>\n",
       "      <td>-1.725</td>\n",
       "      <td>...</td>\n",
       "      <td>0.155</td>\n",
       "      <td>1.960</td>\n",
       "      <td>0.170</td>\n",
       "      <td>0.180</td>\n",
       "      <td>3.915</td>\n",
       "      <td>4.175</td>\n",
       "      <td>4.455</td>\n",
       "      <td>4.565</td>\n",
       "      <td>0</td>\n",
       "      <td>25</td>\n",
       "    </tr>\n",
       "    <tr>\n",
       "      <th>2</th>\n",
       "      <td>4.790</td>\n",
       "      <td>4.915</td>\n",
       "      <td>5.070</td>\n",
       "      <td>5.165</td>\n",
       "      <td>5.285</td>\n",
       "      <td>5.420</td>\n",
       "      <td>5.545</td>\n",
       "      <td>5.705</td>\n",
       "      <td>5.805</td>\n",
       "      <td>5.925</td>\n",
       "      <td>...</td>\n",
       "      <td>-0.250</td>\n",
       "      <td>-0.355</td>\n",
       "      <td>-0.430</td>\n",
       "      <td>-0.495</td>\n",
       "      <td>-0.550</td>\n",
       "      <td>-0.525</td>\n",
       "      <td>-0.490</td>\n",
       "      <td>-0.430</td>\n",
       "      <td>0</td>\n",
       "      <td>23</td>\n",
       "    </tr>\n",
       "    <tr>\n",
       "      <th>3</th>\n",
       "      <td>-1.400</td>\n",
       "      <td>-1.125</td>\n",
       "      <td>-1.090</td>\n",
       "      <td>-1.065</td>\n",
       "      <td>-1.075</td>\n",
       "      <td>-0.990</td>\n",
       "      <td>-0.945</td>\n",
       "      <td>-0.805</td>\n",
       "      <td>-0.780</td>\n",
       "      <td>-0.695</td>\n",
       "      <td>...</td>\n",
       "      <td>1.290</td>\n",
       "      <td>1.165</td>\n",
       "      <td>0.975</td>\n",
       "      <td>0.985</td>\n",
       "      <td>0.810</td>\n",
       "      <td>0.765</td>\n",
       "      <td>0.640</td>\n",
       "      <td>0.535</td>\n",
       "      <td>1</td>\n",
       "      <td>3</td>\n",
       "    </tr>\n",
       "    <tr>\n",
       "      <th>4</th>\n",
       "      <td>-0.815</td>\n",
       "      <td>-0.905</td>\n",
       "      <td>-1.025</td>\n",
       "      <td>-1.180</td>\n",
       "      <td>-1.190</td>\n",
       "      <td>-1.220</td>\n",
       "      <td>-1.270</td>\n",
       "      <td>-1.390</td>\n",
       "      <td>-1.445</td>\n",
       "      <td>-1.400</td>\n",
       "      <td>...</td>\n",
       "      <td>1.040</td>\n",
       "      <td>0.630</td>\n",
       "      <td>0.265</td>\n",
       "      <td>-0.090</td>\n",
       "      <td>-0.385</td>\n",
       "      <td>-0.635</td>\n",
       "      <td>-0.940</td>\n",
       "      <td>-1.105</td>\n",
       "      <td>1</td>\n",
       "      <td>13</td>\n",
       "    </tr>\n",
       "  </tbody>\n",
       "</table>\n",
       "<p>5 rows × 77 columns</p>\n",
       "</div>"
      ],
      "text/plain": [
       "   sample1  sample2  sample3  sample4  sample5  sample6  sample7  sample8  \\\n",
       "0   -2.620   -2.595   -2.670   -2.705   -2.620   -2.615   -2.600   -2.620   \n",
       "1   -2.315   -2.345   -2.185   -2.155   -2.100   -2.030   -1.970   -1.875   \n",
       "2    4.790    4.915    5.070    5.165    5.285    5.420    5.545    5.705   \n",
       "3   -1.400   -1.125   -1.090   -1.065   -1.075   -0.990   -0.945   -0.805   \n",
       "4   -0.815   -0.905   -1.025   -1.180   -1.190   -1.220   -1.270   -1.390   \n",
       "\n",
       "   sample9  sample10  ...  sample68  sample69  sample70  sample71  sample72  \\\n",
       "0   -2.550    -2.630  ...     2.370     2.565     2.720     2.850     2.945   \n",
       "1   -1.825    -1.725  ...     0.155     1.960     0.170     0.180     3.915   \n",
       "2    5.805     5.925  ...    -0.250    -0.355    -0.430    -0.495    -0.550   \n",
       "3   -0.780    -0.695  ...     1.290     1.165     0.975     0.985     0.810   \n",
       "4   -1.445    -1.400  ...     1.040     0.630     0.265    -0.090    -0.385   \n",
       "\n",
       "   sample73  sample74  sample75  beat  subject  \n",
       "0     3.005     2.995     2.990     0        8  \n",
       "1     4.175     4.455     4.565     0       25  \n",
       "2    -0.525    -0.490    -0.430     0       23  \n",
       "3     0.765     0.640     0.535     1        3  \n",
       "4    -0.635    -0.940    -1.105     1       13  \n",
       "\n",
       "[5 rows x 77 columns]"
      ]
     },
     "execution_count": 3,
     "metadata": {},
     "output_type": "execute_result"
    }
   ],
   "source": [
    "df.head()"
   ]
  },
  {
   "cell_type": "code",
   "execution_count": 4,
   "metadata": {},
   "outputs": [],
   "source": [
    "X = df.loc[:, 'sample1':'sample75'].values.astype('float64')\n",
    "y = df.loc[:, 'beat'].values.astype('int64')\n",
    "#y = y.reshape(y.shape[0], 1)\n",
    "a = y\n",
    "b = np.zeros((a.size, a.max()+1))\n",
    "b[np.arange(a.size), a] = 1\n",
    "y = b"
   ]
  },
  {
   "cell_type": "code",
   "execution_count": 5,
   "metadata": {},
   "outputs": [],
   "source": [
    "X_train, X_test, y_train, y_test = train_test_split(X, y, test_size=0.3)"
   ]
  },
  {
   "cell_type": "code",
   "execution_count": 6,
   "metadata": {},
   "outputs": [
    {
     "data": {
      "text/plain": [
       "(38691, 75)"
      ]
     },
     "execution_count": 6,
     "metadata": {},
     "output_type": "execute_result"
    }
   ],
   "source": [
    "X_train.shape"
   ]
  },
  {
   "cell_type": "markdown",
   "metadata": {},
   "source": [
    "### PISFPA"
   ]
  },
  {
   "cell_type": "code",
   "execution_count": 7,
   "metadata": {},
   "outputs": [
    {
     "name": "stdout",
     "output_type": "stream",
     "text": [
      "Bias shape: (32,)\n",
      "W shape: (75, 32)\n",
      "Beta shape (32, 2)\n"
     ]
    }
   ],
   "source": [
    "model = PISFPA(75, 32, 2)"
   ]
  },
  {
   "cell_type": "code",
   "execution_count": 8,
   "metadata": {},
   "outputs": [],
   "source": [
    "model.fit(X_train, y_train, itrs=400, lam=1e-1)"
   ]
  },
  {
   "cell_type": "code",
   "execution_count": 9,
   "metadata": {},
   "outputs": [],
   "source": [
    "pred = model(X_train) \n",
    "pred = np.argmax(pred, axis=1)"
   ]
  },
  {
   "cell_type": "code",
   "execution_count": 10,
   "metadata": {},
   "outputs": [
    {
     "data": {
      "text/plain": [
       "0.8379985009433718"
      ]
     },
     "execution_count": 10,
     "metadata": {},
     "output_type": "execute_result"
    }
   ],
   "source": [
    "sum(np.argmax(y_train, axis=1) == pred) / len(y_train)"
   ]
  },
  {
   "cell_type": "code",
   "execution_count": 11,
   "metadata": {},
   "outputs": [],
   "source": [
    "pred = model(X_test) \n",
    "pred = np.argmax(pred, axis=1)"
   ]
  },
  {
   "cell_type": "code",
   "execution_count": 12,
   "metadata": {},
   "outputs": [
    {
     "data": {
      "text/plain": [
       "0.8316348067297835"
      ]
     },
     "execution_count": 12,
     "metadata": {},
     "output_type": "execute_result"
    }
   ],
   "source": [
    "sum(np.argmax(y_test, axis=1) == pred) / len(y_test)"
   ]
  },
  {
   "cell_type": "markdown",
   "metadata": {},
   "source": [
    "### PISFPA PCA"
   ]
  },
  {
   "cell_type": "code",
   "execution_count": 13,
   "metadata": {},
   "outputs": [
    {
     "data": {
      "text/plain": [
       "(55274, 75)"
      ]
     },
     "execution_count": 13,
     "metadata": {},
     "output_type": "execute_result"
    }
   ],
   "source": [
    "X.shape"
   ]
  },
  {
   "cell_type": "code",
   "execution_count": 14,
   "metadata": {},
   "outputs": [],
   "source": [
    "model = PISFPA_PCA(75, 32, 2)"
   ]
  },
  {
   "cell_type": "code",
   "execution_count": 15,
   "metadata": {},
   "outputs": [],
   "source": [
    "model.fit(X_train, y_train, itrs=100, lam=1e-1)"
   ]
  },
  {
   "cell_type": "code",
   "execution_count": 16,
   "metadata": {},
   "outputs": [],
   "source": [
    "pred = model(X_train) \n",
    "pred = np.argmax(pred, axis=1)"
   ]
  },
  {
   "cell_type": "code",
   "execution_count": 17,
   "metadata": {},
   "outputs": [
    {
     "data": {
      "text/plain": [
       "0.8151508102659534"
      ]
     },
     "execution_count": 17,
     "metadata": {},
     "output_type": "execute_result"
    }
   ],
   "source": [
    "sum(np.argmax(y_train, axis=1) == pred) / len(y_train)"
   ]
  },
  {
   "cell_type": "code",
   "execution_count": 18,
   "metadata": {},
   "outputs": [],
   "source": [
    "pred = model(X_test) \n",
    "pred = np.argmax(pred, axis=1)"
   ]
  },
  {
   "cell_type": "code",
   "execution_count": 19,
   "metadata": {},
   "outputs": [
    {
     "data": {
      "text/plain": [
       "0.8089006814207321"
      ]
     },
     "execution_count": 19,
     "metadata": {},
     "output_type": "execute_result"
    }
   ],
   "source": [
    "sum(np.argmax(y_test, axis=1) == pred) / len(y_test)"
   ]
  },
  {
   "cell_type": "markdown",
   "metadata": {},
   "source": [
    "## GRP"
   ]
  },
  {
   "cell_type": "code",
   "execution_count": 20,
   "metadata": {},
   "outputs": [],
   "source": [
    "model = PISFPA_GRP(75, 32, 2)"
   ]
  },
  {
   "cell_type": "code",
   "execution_count": 21,
   "metadata": {},
   "outputs": [],
   "source": [
    "model.fit(X_train, y_train, itrs=600, lam=1e-1)"
   ]
  },
  {
   "cell_type": "code",
   "execution_count": 22,
   "metadata": {},
   "outputs": [],
   "source": [
    "pred = model(X_train) \n",
    "pred = np.argmax(pred, axis=1)"
   ]
  },
  {
   "cell_type": "code",
   "execution_count": 23,
   "metadata": {},
   "outputs": [
    {
     "data": {
      "text/plain": [
       "0.8583908402470859"
      ]
     },
     "execution_count": 23,
     "metadata": {},
     "output_type": "execute_result"
    }
   ],
   "source": [
    "sum(np.argmax(y_train, axis=1) == pred) / len(y_train)"
   ]
  },
  {
   "cell_type": "code",
   "execution_count": 24,
   "metadata": {},
   "outputs": [],
   "source": [
    "pred = model(X_test) \n",
    "pred = np.argmax(pred, axis=1)"
   ]
  },
  {
   "cell_type": "code",
   "execution_count": 25,
   "metadata": {},
   "outputs": [
    {
     "data": {
      "text/plain": [
       "0.8504492552614122"
      ]
     },
     "execution_count": 25,
     "metadata": {},
     "output_type": "execute_result"
    }
   ],
   "source": [
    "sum(np.argmax(y_test, axis=1) == pred) / len(y_test)"
   ]
  },
  {
   "cell_type": "code",
   "execution_count": null,
   "metadata": {},
   "outputs": [],
   "source": []
  }
 ],
 "metadata": {
  "kernelspec": {
   "display_name": "Python (AIML)",
   "language": "python",
   "name": "aiml"
  },
  "language_info": {
   "codemirror_mode": {
    "name": "ipython",
    "version": 3
   },
   "file_extension": ".py",
   "mimetype": "text/x-python",
   "name": "python",
   "nbconvert_exporter": "python",
   "pygments_lexer": "ipython3",
   "version": "3.7.9"
  }
 },
 "nbformat": 4,
 "nbformat_minor": 4
}
