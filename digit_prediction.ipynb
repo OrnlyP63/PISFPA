{
 "cells": [
  {
   "cell_type": "code",
   "execution_count": 1,
   "id": "750f1721-bca8-425b-858c-0b4e44c87c11",
   "metadata": {},
   "outputs": [],
   "source": [
    "from PISFA import PISFPA, PISFPA_PCA, PISFPA_GRP\n",
    "import numpy as np\n",
    "from tensorflow import keras\n",
    "import pandas as pd\n",
    "from sklearn.model_selection import train_test_split"
   ]
  },
  {
   "cell_type": "markdown",
   "id": "d905ba08-4715-413c-b556-df6c3b8c5744",
   "metadata": {},
   "source": [
    "### Prepare Data"
   ]
  },
  {
   "cell_type": "code",
   "execution_count": 2,
   "id": "4761e221-f021-435e-b962-711be9a130a6",
   "metadata": {},
   "outputs": [],
   "source": [
    "(x_train, y_train), (x_test, y_test) = keras.datasets.mnist.load_data()"
   ]
  },
  {
   "cell_type": "code",
   "execution_count": 3,
   "id": "92b85833-5845-4308-9c16-aabfe7482dba",
   "metadata": {},
   "outputs": [],
   "source": [
    "x_train = x_train.reshape((x_train.shape[0], 28 * 28))\n",
    "x_test = x_test.reshape((x_test.shape[0], 28 * 28))"
   ]
  },
  {
   "cell_type": "code",
   "execution_count": 4,
   "id": "0758078f-074c-4611-83dc-5284961dfab9",
   "metadata": {},
   "outputs": [],
   "source": [
    "b = np.zeros((y_train.size, y_train.max()+1))\n",
    "b[np.arange(y_train.size), y_train] = 1\n",
    "y_train = b"
   ]
  },
  {
   "cell_type": "code",
   "execution_count": 5,
   "id": "d9833814-8d63-4982-aded-851be975c879",
   "metadata": {},
   "outputs": [],
   "source": [
    "b = np.zeros((y_test.size, y_test.max()+1))\n",
    "b[np.arange(y_test.size), y_test] = 1\n",
    "y_test = b"
   ]
  },
  {
   "cell_type": "markdown",
   "id": "1ad742a1-73d7-4fca-8ff3-cc1692ad4847",
   "metadata": {},
   "source": [
    "### PISFPA"
   ]
  },
  {
   "cell_type": "code",
   "execution_count": 6,
   "id": "82ed8389-5449-4226-9ac8-3a53bdf3a4c1",
   "metadata": {},
   "outputs": [
    {
     "name": "stdout",
     "output_type": "stream",
     "text": [
      "Bias shape: (500,)\n",
      "W shape: (784, 500)\n",
      "Beta shape (500, 10)\n"
     ]
    }
   ],
   "source": [
    "model = PISFPA(784, 500, 10, activation='relu')"
   ]
  },
  {
   "cell_type": "code",
   "execution_count": 7,
   "id": "55462ab0-6de5-40d2-aaec-01de08556d34",
   "metadata": {
    "tags": []
   },
   "outputs": [
    {
     "name": "stdout",
     "output_type": "stream",
     "text": [
      "Wall time: 4.22 s\n"
     ]
    }
   ],
   "source": [
    "%%time\n",
    "model.fit(x_train, y_train, itrs=600, lam=1e-1)"
   ]
  },
  {
   "cell_type": "markdown",
   "id": "d2f5752a-2ab6-43ff-a91c-5a4d0709c82e",
   "metadata": {},
   "source": [
    "#### Train"
   ]
  },
  {
   "cell_type": "code",
   "execution_count": 8,
   "id": "6a825955-4112-44a2-9411-90abbb63f7e9",
   "metadata": {},
   "outputs": [],
   "source": [
    "predict = model(x_train)"
   ]
  },
  {
   "cell_type": "code",
   "execution_count": 9,
   "id": "24a9d146-cfe3-44e0-aa4b-c6a344bebae5",
   "metadata": {},
   "outputs": [],
   "source": [
    "predict = np.argmax(predict, axis=1)"
   ]
  },
  {
   "cell_type": "code",
   "execution_count": 10,
   "id": "73d8be5d-673c-4460-b881-b2b2ab001d80",
   "metadata": {},
   "outputs": [
    {
     "data": {
      "text/plain": [
       "array([5, 0, 4, ..., 5, 6, 8], dtype=int64)"
      ]
     },
     "execution_count": 10,
     "metadata": {},
     "output_type": "execute_result"
    }
   ],
   "source": [
    "predict"
   ]
  },
  {
   "cell_type": "code",
   "execution_count": 11,
   "id": "714e7b48-63d1-47b2-9976-7a0d287bb29d",
   "metadata": {},
   "outputs": [
    {
     "data": {
      "text/plain": [
       "0.89645"
      ]
     },
     "execution_count": 11,
     "metadata": {},
     "output_type": "execute_result"
    }
   ],
   "source": [
    "sum(predict == np.argmax(y_train, axis=1)) / y_train.shape[0]"
   ]
  },
  {
   "cell_type": "markdown",
   "id": "175d33a1-4123-4bc6-a9a7-fc9f32606959",
   "metadata": {},
   "source": [
    "#### Test"
   ]
  },
  {
   "cell_type": "code",
   "execution_count": 12,
   "id": "8830de72-789f-4171-85ba-ae0ac35bed34",
   "metadata": {},
   "outputs": [],
   "source": [
    "predict = model(x_test)"
   ]
  },
  {
   "cell_type": "code",
   "execution_count": 13,
   "id": "3df2a2a1-9cf6-4072-a9b5-4392867a0c5d",
   "metadata": {},
   "outputs": [],
   "source": [
    "predict = np.argmax(predict, axis=1)"
   ]
  },
  {
   "cell_type": "code",
   "execution_count": 14,
   "id": "d14d9c09-c9d9-4934-ad1b-b64822f99e17",
   "metadata": {},
   "outputs": [
    {
     "data": {
      "text/plain": [
       "array([7, 2, 1, ..., 4, 5, 6], dtype=int64)"
      ]
     },
     "execution_count": 14,
     "metadata": {},
     "output_type": "execute_result"
    }
   ],
   "source": [
    "predict"
   ]
  },
  {
   "cell_type": "code",
   "execution_count": 15,
   "id": "09067081-c3f2-417c-a8ff-99cb4e83e71f",
   "metadata": {},
   "outputs": [
    {
     "data": {
      "text/plain": [
       "0.9014"
      ]
     },
     "execution_count": 15,
     "metadata": {},
     "output_type": "execute_result"
    }
   ],
   "source": [
    "sum(predict == np.argmax(y_test, axis=1)) / y_test.shape[0]"
   ]
  },
  {
   "cell_type": "markdown",
   "id": "a45270cb-a7ba-4afc-a7db-55d4657018ce",
   "metadata": {},
   "source": [
    "### PCA"
   ]
  },
  {
   "cell_type": "code",
   "execution_count": 16,
   "id": "5a6940b7-7061-4d97-8302-3197b6eeff28",
   "metadata": {},
   "outputs": [],
   "source": [
    "model = PISFPA_PCA(784, 500, 10, activation='relu')"
   ]
  },
  {
   "cell_type": "code",
   "execution_count": 17,
   "id": "68efe98a-d161-41c6-b21f-d18f3f11ac01",
   "metadata": {},
   "outputs": [
    {
     "name": "stdout",
     "output_type": "stream",
     "text": [
      "Wall time: 23.1 s\n"
     ]
    }
   ],
   "source": [
    "%%time\n",
    "model.fit(x_train, y_train, itrs=600, lam=1e-1)"
   ]
  },
  {
   "cell_type": "markdown",
   "id": "93d32a2c-1c12-405a-8037-a2ddbc05bb90",
   "metadata": {},
   "source": [
    "#### Train"
   ]
  },
  {
   "cell_type": "code",
   "execution_count": 18,
   "id": "4eb4e592-460e-4026-83ff-d3621051bae6",
   "metadata": {},
   "outputs": [],
   "source": [
    "predict = model(x_train)"
   ]
  },
  {
   "cell_type": "code",
   "execution_count": 19,
   "id": "4258ad55-9bbc-4379-b937-cd6d2b8741e0",
   "metadata": {},
   "outputs": [],
   "source": [
    "predict = np.argmax(predict, axis=1)"
   ]
  },
  {
   "cell_type": "code",
   "execution_count": 20,
   "id": "00699b92-1831-4636-b665-fecc1e72364e",
   "metadata": {},
   "outputs": [
    {
     "data": {
      "text/plain": [
       "array([3, 0, 4, ..., 5, 6, 8], dtype=int64)"
      ]
     },
     "execution_count": 20,
     "metadata": {},
     "output_type": "execute_result"
    }
   ],
   "source": [
    "predict"
   ]
  },
  {
   "cell_type": "code",
   "execution_count": 21,
   "id": "ceef5fc8-a806-4d1d-8d3f-4146d835a62a",
   "metadata": {},
   "outputs": [
    {
     "data": {
      "text/plain": [
       "0.83075"
      ]
     },
     "execution_count": 21,
     "metadata": {},
     "output_type": "execute_result"
    }
   ],
   "source": [
    "sum(predict == np.argmax(y_train, axis=1)) / y_train.shape[0]"
   ]
  },
  {
   "cell_type": "markdown",
   "id": "e3a4113d-d5f5-4a17-99ff-cbbcd5e0ba9e",
   "metadata": {},
   "source": [
    "#### Test"
   ]
  },
  {
   "cell_type": "code",
   "execution_count": 22,
   "id": "aa9bb8dc-3be3-4d89-9e6e-9d22f72ee039",
   "metadata": {},
   "outputs": [],
   "source": [
    "predict = model(x_test)"
   ]
  },
  {
   "cell_type": "code",
   "execution_count": 23,
   "id": "0e7b1570-692a-400b-bb5b-f1c16158b3c8",
   "metadata": {},
   "outputs": [],
   "source": [
    "predict = np.argmax(predict, axis=1)"
   ]
  },
  {
   "cell_type": "code",
   "execution_count": 24,
   "id": "17922cf0-8927-48bf-b4fe-55ebedb041e9",
   "metadata": {},
   "outputs": [
    {
     "data": {
      "text/plain": [
       "array([7, 2, 1, ..., 4, 5, 6], dtype=int64)"
      ]
     },
     "execution_count": 24,
     "metadata": {},
     "output_type": "execute_result"
    }
   ],
   "source": [
    "predict"
   ]
  },
  {
   "cell_type": "code",
   "execution_count": 25,
   "id": "a1b74cce-d7eb-4eed-b91f-9059f3c99ee7",
   "metadata": {},
   "outputs": [
    {
     "data": {
      "text/plain": [
       "0.8338"
      ]
     },
     "execution_count": 25,
     "metadata": {},
     "output_type": "execute_result"
    }
   ],
   "source": [
    "sum(predict == np.argmax(y_test, axis=1)) / y_test.shape[0]"
   ]
  },
  {
   "cell_type": "markdown",
   "id": "33f9ae89-2988-432e-9dcc-a3101356660c",
   "metadata": {},
   "source": [
    "## GRP"
   ]
  },
  {
   "cell_type": "code",
   "execution_count": 26,
   "id": "9fa15ee9-4e58-466d-a595-bcd3683df682",
   "metadata": {},
   "outputs": [],
   "source": [
    "model = PISFPA_GRP(784, 500, 10, activation='relu')"
   ]
  },
  {
   "cell_type": "code",
   "execution_count": 27,
   "id": "83bdae5a-abd3-4d03-b7ac-346b524dde88",
   "metadata": {},
   "outputs": [
    {
     "name": "stdout",
     "output_type": "stream",
     "text": [
      "Wall time: 3.77 s\n"
     ]
    }
   ],
   "source": [
    "%%time\n",
    "model.fit(x_train, y_train, itrs=600, lam=1e-1)"
   ]
  },
  {
   "cell_type": "markdown",
   "id": "140b09f5-e140-475f-91b2-c57815a82a97",
   "metadata": {},
   "source": [
    "#### Train"
   ]
  },
  {
   "cell_type": "code",
   "execution_count": 28,
   "id": "c89df11c-cd77-4b92-bdbc-2e1bfc628e36",
   "metadata": {},
   "outputs": [],
   "source": [
    "predict = model(x_train)"
   ]
  },
  {
   "cell_type": "code",
   "execution_count": 29,
   "id": "46b14391-8160-4ef1-875b-d3ba50265ad5",
   "metadata": {},
   "outputs": [],
   "source": [
    "predict = np.argmax(predict, axis=1)"
   ]
  },
  {
   "cell_type": "code",
   "execution_count": 30,
   "id": "50df39b7-fc98-4c43-9a4b-f0c2dba9b1bc",
   "metadata": {},
   "outputs": [
    {
     "data": {
      "text/plain": [
       "array([3, 0, 4, ..., 5, 6, 8], dtype=int64)"
      ]
     },
     "execution_count": 30,
     "metadata": {},
     "output_type": "execute_result"
    }
   ],
   "source": [
    "predict"
   ]
  },
  {
   "cell_type": "code",
   "execution_count": 31,
   "id": "2ce2d5a2-bc4a-4fac-8450-9162e20e8f67",
   "metadata": {},
   "outputs": [
    {
     "data": {
      "text/plain": [
       "0.91105"
      ]
     },
     "execution_count": 31,
     "metadata": {},
     "output_type": "execute_result"
    }
   ],
   "source": [
    "sum(predict == np.argmax(y_train, axis=1)) / y_train.shape[0]"
   ]
  },
  {
   "cell_type": "markdown",
   "id": "30bd6e0d-80ae-424b-bc0c-052e460b4ae0",
   "metadata": {},
   "source": [
    "#### Test"
   ]
  },
  {
   "cell_type": "code",
   "execution_count": 32,
   "id": "e670d726-e859-4bbd-9eb9-9d8b044dd960",
   "metadata": {},
   "outputs": [],
   "source": [
    "predict = model(x_test)"
   ]
  },
  {
   "cell_type": "code",
   "execution_count": 33,
   "id": "a9870cff-03e4-4e58-9ee2-1608cf393bd0",
   "metadata": {},
   "outputs": [],
   "source": [
    "predict = np.argmax(predict, axis=1)"
   ]
  },
  {
   "cell_type": "code",
   "execution_count": 34,
   "id": "201c8b00-44a5-4337-972a-e920e3bc0b96",
   "metadata": {},
   "outputs": [
    {
     "data": {
      "text/plain": [
       "array([7, 2, 1, ..., 4, 5, 6], dtype=int64)"
      ]
     },
     "execution_count": 34,
     "metadata": {},
     "output_type": "execute_result"
    }
   ],
   "source": [
    "predict"
   ]
  },
  {
   "cell_type": "code",
   "execution_count": 35,
   "id": "ae469b43-0bda-42cd-a5ad-2dedbe6a12ab",
   "metadata": {},
   "outputs": [
    {
     "data": {
      "text/plain": [
       "0.9105"
      ]
     },
     "execution_count": 35,
     "metadata": {},
     "output_type": "execute_result"
    }
   ],
   "source": [
    "sum(predict == np.argmax(y_test, axis=1)) / y_test.shape[0]"
   ]
  }
 ],
 "metadata": {
  "kernelspec": {
   "display_name": "Python (tf)",
   "language": "python",
   "name": "tf"
  },
  "language_info": {
   "codemirror_mode": {
    "name": "ipython",
    "version": 3
   },
   "file_extension": ".py",
   "mimetype": "text/x-python",
   "name": "python",
   "nbconvert_exporter": "python",
   "pygments_lexer": "ipython3",
   "version": "3.7.9"
  }
 },
 "nbformat": 4,
 "nbformat_minor": 5
}
