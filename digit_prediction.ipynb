{
 "cells": [
  {
   "cell_type": "code",
   "execution_count": 1,
   "id": "750f1721-bca8-425b-858c-0b4e44c87c11",
   "metadata": {},
   "outputs": [],
   "source": [
    "from PISFA import PISFPA, PISFPA_PCA\n",
    "import numpy as np\n",
    "from tensorflow import keras\n",
    "import pandas as pd\n",
    "from sklearn.model_selection import train_test_split"
   ]
  },
  {
   "cell_type": "code",
   "execution_count": 2,
   "id": "4761e221-f021-435e-b962-711be9a130a6",
   "metadata": {},
   "outputs": [],
   "source": [
    "(x_train, y_train), (x_test, y_test) = keras.datasets.mnist.load_data()"
   ]
  },
  {
   "cell_type": "code",
   "execution_count": 3,
   "id": "92b85833-5845-4308-9c16-aabfe7482dba",
   "metadata": {},
   "outputs": [],
   "source": [
    "x_train = x_train.reshape((x_train.shape[0], 28 * 28))"
   ]
  },
  {
   "cell_type": "code",
   "execution_count": 4,
   "id": "0758078f-074c-4611-83dc-5284961dfab9",
   "metadata": {},
   "outputs": [],
   "source": [
    "b = np.zeros((y_train.size, y_train.max()+1))\n",
    "b[np.arange(y_train.size), y_train] = 1"
   ]
  },
  {
   "cell_type": "code",
   "execution_count": 5,
   "id": "d9833814-8d63-4982-aded-851be975c879",
   "metadata": {},
   "outputs": [],
   "source": [
    "y_train = b"
   ]
  },
  {
   "cell_type": "code",
   "execution_count": 6,
   "id": "82ed8389-5449-4226-9ac8-3a53bdf3a4c1",
   "metadata": {},
   "outputs": [
    {
     "name": "stdout",
     "output_type": "stream",
     "text": [
      "Bias shape: (200,)\n",
      "W shape: (784, 200)\n",
      "Beta shape (200, 10)\n"
     ]
    }
   ],
   "source": [
    "model = PISFPA(784, 200, 10)"
   ]
  },
  {
   "cell_type": "code",
   "execution_count": 7,
   "id": "55462ab0-6de5-40d2-aaec-01de08556d34",
   "metadata": {},
   "outputs": [
    {
     "name": "stderr",
     "output_type": "stream",
     "text": [
      "C:\\Users\\ideapad 330\\Desktop\\EML\\PISFPA\\PISFA.py:13: RuntimeWarning: overflow encountered in exp\n",
      "  return 1. / (1. + np.exp(-x))\n"
     ]
    }
   ],
   "source": [
    "model.fit(x_train, y_train, itrs=600, lam=1e-1)"
   ]
  },
  {
   "cell_type": "code",
   "execution_count": 8,
   "id": "8830de72-789f-4171-85ba-ae0ac35bed34",
   "metadata": {},
   "outputs": [],
   "source": [
    "predict = model(x_test.reshape((x_test.shape[0], 28 * 28)))"
   ]
  },
  {
   "cell_type": "code",
   "execution_count": 9,
   "id": "3df2a2a1-9cf6-4072-a9b5-4392867a0c5d",
   "metadata": {},
   "outputs": [],
   "source": [
    "predict = np.argmax(predict, axis=1)"
   ]
  },
  {
   "cell_type": "code",
   "execution_count": 10,
   "id": "d14d9c09-c9d9-4934-ad1b-b64822f99e17",
   "metadata": {},
   "outputs": [
    {
     "data": {
      "text/plain": [
       "array([7, 0, 1, ..., 4, 5, 6], dtype=int64)"
      ]
     },
     "execution_count": 10,
     "metadata": {},
     "output_type": "execute_result"
    }
   ],
   "source": [
    "predict"
   ]
  },
  {
   "cell_type": "code",
   "execution_count": 11,
   "id": "d57b5a8f-0b51-4a7f-9378-dbb207ec6ceb",
   "metadata": {},
   "outputs": [
    {
     "data": {
      "text/plain": [
       "array([7, 2, 1, ..., 4, 5, 6], dtype=uint8)"
      ]
     },
     "execution_count": 11,
     "metadata": {},
     "output_type": "execute_result"
    }
   ],
   "source": [
    "y_test"
   ]
  },
  {
   "cell_type": "code",
   "execution_count": 12,
   "id": "09067081-c3f2-417c-a8ff-99cb4e83e71f",
   "metadata": {},
   "outputs": [
    {
     "data": {
      "text/plain": [
       "0.8342"
      ]
     },
     "execution_count": 12,
     "metadata": {},
     "output_type": "execute_result"
    }
   ],
   "source": [
    "sum(predict == y_test)/y_test.shape[0]"
   ]
  },
  {
   "cell_type": "markdown",
   "id": "a45270cb-a7ba-4afc-a7db-55d4657018ce",
   "metadata": {},
   "source": [
    "### PCA"
   ]
  },
  {
   "cell_type": "code",
   "execution_count": 13,
   "id": "5a6940b7-7061-4d97-8302-3197b6eeff28",
   "metadata": {},
   "outputs": [],
   "source": [
    "model = PISFPA_PCA(784, 200, 10)"
   ]
  },
  {
   "cell_type": "code",
   "execution_count": 14,
   "id": "68efe98a-d161-41c6-b21f-d18f3f11ac01",
   "metadata": {},
   "outputs": [
    {
     "name": "stderr",
     "output_type": "stream",
     "text": [
      "C:\\Users\\ideapad 330\\Desktop\\EML\\PISFPA\\PISFA.py:13: RuntimeWarning: overflow encountered in exp\n",
      "  return 1. / (1. + np.exp(-x))\n"
     ]
    }
   ],
   "source": [
    "model.fit(x_train, y_train, itrs=600, lam=1e-1)"
   ]
  },
  {
   "cell_type": "code",
   "execution_count": 15,
   "id": "9b53116d-b245-49db-bdc3-07d4e4f145ba",
   "metadata": {},
   "outputs": [
    {
     "name": "stderr",
     "output_type": "stream",
     "text": [
      "C:\\Users\\ideapad 330\\Desktop\\EML\\PISFPA\\PISFA.py:13: RuntimeWarning: overflow encountered in exp\n",
      "  return 1. / (1. + np.exp(-x))\n"
     ]
    }
   ],
   "source": [
    "predict = model(x_test.reshape((x_test.shape[0], 28 * 28)))"
   ]
  },
  {
   "cell_type": "code",
   "execution_count": 16,
   "id": "2c463e15-d409-47fb-8b88-6ae5742468d4",
   "metadata": {},
   "outputs": [],
   "source": [
    "predict = np.argmax(predict, axis=1)"
   ]
  },
  {
   "cell_type": "code",
   "execution_count": 17,
   "id": "dced4ea4-4f2f-4ae1-9eec-e6533e5138af",
   "metadata": {},
   "outputs": [
    {
     "data": {
      "text/plain": [
       "array([7, 2, 1, ..., 9, 5, 6], dtype=int64)"
      ]
     },
     "execution_count": 17,
     "metadata": {},
     "output_type": "execute_result"
    }
   ],
   "source": [
    "predict"
   ]
  },
  {
   "cell_type": "code",
   "execution_count": 18,
   "id": "9d68eba9-ee98-4186-ab01-51193aa864ec",
   "metadata": {},
   "outputs": [
    {
     "data": {
      "text/plain": [
       "array([7, 2, 1, ..., 4, 5, 6], dtype=uint8)"
      ]
     },
     "execution_count": 18,
     "metadata": {},
     "output_type": "execute_result"
    }
   ],
   "source": [
    "y_test"
   ]
  },
  {
   "cell_type": "code",
   "execution_count": 19,
   "id": "184c4b6b-713a-4f6a-9160-4f5445f1be4c",
   "metadata": {},
   "outputs": [
    {
     "data": {
      "text/plain": [
       "0.7624"
      ]
     },
     "execution_count": 19,
     "metadata": {},
     "output_type": "execute_result"
    }
   ],
   "source": [
    "sum(predict == y_test)/y_test.shape[0]"
   ]
  }
 ],
 "metadata": {
  "kernelspec": {
   "display_name": "Python (tf)",
   "language": "python",
   "name": "tf"
  },
  "language_info": {
   "codemirror_mode": {
    "name": "ipython",
    "version": 3
   },
   "file_extension": ".py",
   "mimetype": "text/x-python",
   "name": "python",
   "nbconvert_exporter": "python",
   "pygments_lexer": "ipython3",
   "version": "3.7.9"
  }
 },
 "nbformat": 4,
 "nbformat_minor": 5
}
